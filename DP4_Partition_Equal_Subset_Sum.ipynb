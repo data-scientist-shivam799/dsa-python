{
 "cells": [
  {
   "cell_type": "markdown",
   "id": "af12f809",
   "metadata": {},
   "source": [
    "Given an array arr of size N, check if it can be partitioned into two parts such that the sum of elements in both parts is the same."
   ]
  },
  {
   "cell_type": "code",
   "execution_count": 7,
   "id": "d6184deb",
   "metadata": {},
   "outputs": [],
   "source": [
    "def equalPartition(N,arr):\n",
    "    totalSum = sum(arr)\n",
    "\n",
    "    if totalSum % 2 != 0:\n",
    "        return False\n",
    "\n",
    "    targetSum = totalSum // 2\n",
    "    dp = [[False] * (targetSum + 1) for _ in range(N + 1)]\n",
    "\n",
    "    for i in range(N + 1):\n",
    "        dp[i][0] = True\n",
    "\n",
    "    for i in range(1, N + 1):\n",
    "        for j in range(1, targetSum + 1):\n",
    "            if arr[i - 1] <= j:\n",
    "                dp[i][j] = dp[i - 1][j] or dp[i - 1][j - arr[i - 1]]\n",
    "            else:\n",
    "                dp[i][j] = dp[i - 1][j]\n",
    "\n",
    "    return dp[N][targetSum]"
   ]
  },
  {
   "cell_type": "code",
   "execution_count": 14,
   "id": "bdcfe4e0",
   "metadata": {},
   "outputs": [
    {
     "data": {
      "text/plain": [
       "True"
      ]
     },
     "execution_count": 14,
     "metadata": {},
     "output_type": "execute_result"
    }
   ],
   "source": [
    "N=4\n",
    "arr=[1,5,11,5]\n",
    "equalPartition(N,arr)"
   ]
  },
  {
   "cell_type": "code",
   "execution_count": null,
   "id": "37220c9e",
   "metadata": {},
   "outputs": [],
   "source": []
  }
 ],
 "metadata": {
  "kernelspec": {
   "display_name": "Python 3 (ipykernel)",
   "language": "python",
   "name": "python3"
  },
  "language_info": {
   "codemirror_mode": {
    "name": "ipython",
    "version": 3
   },
   "file_extension": ".py",
   "mimetype": "text/x-python",
   "name": "python",
   "nbconvert_exporter": "python",
   "pygments_lexer": "ipython3",
   "version": "3.9.13"
  }
 },
 "nbformat": 4,
 "nbformat_minor": 5
}
