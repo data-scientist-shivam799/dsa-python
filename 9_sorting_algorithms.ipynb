{
 "cells": [
  {
   "cell_type": "code",
   "execution_count": 1,
   "id": "0b88f093",
   "metadata": {},
   "outputs": [],
   "source": [
    "def is_sorted(arr):\n",
    "    sorted=True\n",
    "    for i in range(len(arr)-1):\n",
    "        if arr[i]>arr[i+1]:\n",
    "            sorted=False\n",
    "    return sorted"
   ]
  },
  {
   "cell_type": "code",
   "execution_count": 2,
   "id": "cb8361a6",
   "metadata": {},
   "outputs": [
    {
     "data": {
      "text/plain": [
       "False"
      ]
     },
     "execution_count": 2,
     "metadata": {},
     "output_type": "execute_result"
    }
   ],
   "source": [
    "is_sorted([1,2,3,4,2,5,6])"
   ]
  },
  {
   "cell_type": "code",
   "execution_count": 6,
   "id": "347fdf52",
   "metadata": {},
   "outputs": [
    {
     "name": "stdout",
     "output_type": "stream",
     "text": [
      "[1, 2, 4, 3]\n",
      "[4, 1, 2, 3]\n",
      "[3, 1, 4, 2]\n",
      "[4, 1, 3, 2]\n",
      "[1, 4, 2, 3]\n",
      "[2, 4, 1, 3]\n",
      "[1, 2, 4, 3]\n",
      "[1, 4, 2, 3]\n",
      "[3, 2, 1, 4]\n",
      "[2, 3, 4, 1]\n",
      "[2, 3, 4, 1]\n",
      "[1, 2, 3, 4]\n",
      "Sorted Arrar: [1, 2, 3, 4]\n"
     ]
    }
   ],
   "source": [
    "# Monkey sort\n",
    "import random\n",
    "\n",
    "def monkey_sort(arr):\n",
    "    while not is_sorted(arr):\n",
    "        random.shuffle(arr)\n",
    "        print(arr)\n",
    "    print(\"Sorted Arrar:\",arr)\n",
    "monkey_sort([1,2,4,3])"
   ]
  },
  {
   "cell_type": "markdown",
   "id": "305ebaf1",
   "metadata": {},
   "source": [
    "# Bubble Sort\n",
    "* Adaptive in nature\n",
    "* Stable"
   ]
  },
  {
   "cell_type": "code",
   "execution_count": 9,
   "id": "8e127960",
   "metadata": {},
   "outputs": [],
   "source": [
    "def bubble_sort(arr):\n",
    "    for i in range(len(arr)-1):\n",
    "        flag=0\n",
    "        for j in range(len(arr)-1-i):\n",
    "            if arr[j]>arr[j+1]:\n",
    "                arr[j],arr[j+1]=arr[j+1],arr[j]\n",
    "                flag=1\n",
    "        if flag==0:\n",
    "            break\n",
    "    print(arr)"
   ]
  },
  {
   "cell_type": "code",
   "execution_count": 11,
   "id": "4ec82c06",
   "metadata": {},
   "outputs": [
    {
     "name": "stdout",
     "output_type": "stream",
     "text": [
      "[1, 2, 2, 3, 3, 5, 5, 6]\n"
     ]
    }
   ],
   "source": [
    "arr=[3,2,5,2,6,3,5,1]\n",
    "bubble_sort(arr)"
   ]
  },
  {
   "cell_type": "markdown",
   "id": "65695c8a",
   "metadata": {},
   "source": [
    "# Selection Sort\n",
    "* Number of swapping is less in selection sort than bubble sort, so it is faster.\n",
    "* Not adaptive in nature\n",
    "* Not stable"
   ]
  },
  {
   "cell_type": "code",
   "execution_count": 12,
   "id": "f0713079",
   "metadata": {},
   "outputs": [],
   "source": [
    "def selection_sort(arr):\n",
    "    for i in range(len(arr)-1):\n",
    "        min=i\n",
    "        for j in range(i+1,len(arr)):\n",
    "            if arr[j]<arr[min]:\n",
    "                min=j\n",
    "        arr[i],arr[min]=arr[min],arr[i]\n",
    "    print(arr)"
   ]
  },
  {
   "cell_type": "code",
   "execution_count": 13,
   "id": "c95b9e60",
   "metadata": {},
   "outputs": [
    {
     "name": "stdout",
     "output_type": "stream",
     "text": [
      "[1, 2, 2, 3, 3, 5, 5, 6]\n"
     ]
    }
   ],
   "source": [
    "arr=[3,2,5,2,6,3,5,1]\n",
    "selection_sort(arr)"
   ]
  },
  {
   "cell_type": "markdown",
   "id": "add1c31c",
   "metadata": {},
   "source": [
    "# Merge sort\n",
    "* Divide & Conquer\n",
    "* Time - O(nlog(n))\n",
    "* Space - O(n)"
   ]
  },
  {
   "cell_type": "code",
   "execution_count": 14,
   "id": "efd5f2ae",
   "metadata": {},
   "outputs": [],
   "source": [
    "def merge_sorted(arr1,arr2):\n",
    "    i=j=0\n",
    "    merged=[]\n",
    "    while i<len(arr1) and j<len(arr2):\n",
    "        if arr1[i]<arr2[j]:\n",
    "            merged.append(arr1[i])\n",
    "            i+=1\n",
    "        else:\n",
    "            merged.append(arr2[j])\n",
    "            j+=1\n",
    "            \n",
    "    while i<len(arr1):\n",
    "        merged.append(arr1[i])\n",
    "        i+=1\n",
    "    while j<len(arr2):\n",
    "        merged.append(arr2[j])\n",
    "        j+=1    \n",
    "    return merged"
   ]
  },
  {
   "cell_type": "code",
   "execution_count": 15,
   "id": "cbf4903d",
   "metadata": {},
   "outputs": [],
   "source": [
    "def merge_sort(arr):\n",
    "    if len(arr)==1:\n",
    "        return arr\n",
    "    mid=len(arr)//2\n",
    "    \n",
    "    left=arr[:mid]\n",
    "    right=arr[mid:]\n",
    "    \n",
    "    left=merge_sort(left)\n",
    "    right=merge_sort(right)\n",
    "    \n",
    "    return merge_sorted(left,right)"
   ]
  },
  {
   "cell_type": "code",
   "execution_count": 16,
   "id": "255db1c1",
   "metadata": {},
   "outputs": [
    {
     "data": {
      "text/plain": [
       "[0, 1, 2, 4, 5, 6, 7, 8, 9]"
      ]
     },
     "execution_count": 16,
     "metadata": {},
     "output_type": "execute_result"
    }
   ],
   "source": [
    "arr=[2,4,5,7,1,8,6,9,0]\n",
    "merge_sort(arr)"
   ]
  },
  {
   "cell_type": "markdown",
   "id": "f852b75b",
   "metadata": {},
   "source": [
    "### Optimized code"
   ]
  },
  {
   "cell_type": "code",
   "execution_count": 23,
   "id": "a9ba5d36",
   "metadata": {},
   "outputs": [],
   "source": [
    "def merge_sorted(arr1,arr2,arr):\n",
    "    i=j=k=0\n",
    "    while i<len(arr1) and j<len(arr2):\n",
    "        if arr1[i]<arr2[j]:\n",
    "            arr[k]=arr1[i]\n",
    "            i+=1\n",
    "        else:\n",
    "            arr[k]=arr2[j]\n",
    "            j+=1\n",
    "        k+=1\n",
    "            \n",
    "    while i<len(arr1):\n",
    "        arr[k]=arr1[i]\n",
    "        i+=1\n",
    "        k+=1\n",
    "    while j<len(arr2):\n",
    "        arr[k]=arr2[j]\n",
    "        j+=1  \n",
    "        k+=1\n",
    "    return"
   ]
  },
  {
   "cell_type": "code",
   "execution_count": 24,
   "id": "14de61ae",
   "metadata": {},
   "outputs": [],
   "source": [
    "def merge_sort(arr):\n",
    "    if len(arr)==1:\n",
    "        return arr\n",
    "    mid=len(arr)//2\n",
    "    \n",
    "    left=arr[:mid]\n",
    "    right=arr[mid:]\n",
    "    \n",
    "    merge_sort(left)\n",
    "    merge_sort(right)\n",
    "    \n",
    "    merge_sorted(left,right,arr)"
   ]
  },
  {
   "cell_type": "code",
   "execution_count": 25,
   "id": "b21fd901",
   "metadata": {},
   "outputs": [
    {
     "data": {
      "text/plain": [
       "[0, 1, 2, 4, 5, 6, 7, 8, 9]"
      ]
     },
     "execution_count": 25,
     "metadata": {},
     "output_type": "execute_result"
    }
   ],
   "source": [
    "arr=[2,4,5,7,1,8,6,9,0]\n",
    "merge_sort(arr)\n",
    "arr"
   ]
  },
  {
   "cell_type": "code",
   "execution_count": null,
   "id": "8a0f535a",
   "metadata": {},
   "outputs": [],
   "source": []
  },
  {
   "cell_type": "code",
   "execution_count": null,
   "id": "a97a3dc0",
   "metadata": {},
   "outputs": [],
   "source": [
    "     "
   ]
  }
 ],
 "metadata": {
  "kernelspec": {
   "display_name": "Python 3 (ipykernel)",
   "language": "python",
   "name": "python3"
  },
  "language_info": {
   "codemirror_mode": {
    "name": "ipython",
    "version": 3
   },
   "file_extension": ".py",
   "mimetype": "text/x-python",
   "name": "python",
   "nbconvert_exporter": "python",
   "pygments_lexer": "ipython3",
   "version": "3.9.13"
  }
 },
 "nbformat": 4,
 "nbformat_minor": 5
}
