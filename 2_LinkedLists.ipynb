{
 "cells": [
  {
   "cell_type": "markdown",
   "id": "f8e88b79",
   "metadata": {},
   "source": [
    "# Linked Lists\n",
    "* Linear data structures used to store data in non-continous memory location. \n",
    "* Collection of nodes (Stores in form of data and address)\n",
    "* Write operations are of O(1)\n",
    "* Read operations are of O(n) in Linked List but O(1) in array.\n",
    "* First node is head and last node is tail, the tail address is None."
   ]
  },
  {
   "cell_type": "code",
   "execution_count": 4,
   "id": "dcc68015",
   "metadata": {},
   "outputs": [],
   "source": [
    "class Node:\n",
    "    def __init__(self,value):\n",
    "        self.value=value\n",
    "        self.next=None"
   ]
  },
  {
   "cell_type": "code",
   "execution_count": 32,
   "id": "cd741aa6",
   "metadata": {},
   "outputs": [],
   "source": [
    "class LinkedList:\n",
    "    def __init__(self):\n",
    "        # Create an empty LinkedList\n",
    "        # head=None -> Empty LL\n",
    "        self.head=None\n",
    "        # number of nodes in LL\n",
    "        self.n=0\n",
    "        \n",
    "    # len of LL = count of nodes\n",
    "    def __len__(self):\n",
    "        return self.n\n",
    "    \n",
    "    def insert_head(self,value):\n",
    "        # new node\n",
    "        new_node=Node(value)\n",
    "        # create connection\n",
    "        new_node.next=self.head\n",
    "        # reassign head\n",
    "        self.head=new_node\n",
    "        self.n+=1\n",
    "        \n",
    "    def append(self,value):\n",
    "        new_node=Node(value)\n",
    "        \n",
    "        if self.head==None:\n",
    "            # Empty \n",
    "            self.head=new_node\n",
    "            self.n+=1\n",
    "            return \n",
    "        \n",
    "        curr=self.head\n",
    "        while curr.next!=None:\n",
    "            curr=curr.next\n",
    "        # now you are at last node\n",
    "        curr.next=new_node\n",
    "        self.n+=1\n",
    "        \n",
    "    def insert_after(self,after,value):\n",
    "        new_node=Node(value)\n",
    "        curr=self.head\n",
    "        while curr!=None:\n",
    "            if curr.value==after:\n",
    "                break\n",
    "            curr=curr.next\n",
    "        # item mil gaya -> curr -> not None\n",
    "        if curr!=None:\n",
    "            new_node.next=curr.next\n",
    "            curr.next=new_node\n",
    "            self.n+=1\n",
    "        else:\n",
    "            return \"Item not found\"\n",
    "        \n",
    "    def clear(self):\n",
    "        self.head=None\n",
    "        self.n=0\n",
    "        \n",
    "    def delete_head(self):\n",
    "        if self.head==None:\n",
    "            return 'Empty Linked List'\n",
    "        self.head=self.head.next\n",
    "        self.n-=1\n",
    "        \n",
    "    def pop(self):\n",
    "        if self.head==None:\n",
    "            return \"Empty Linked List\"\n",
    "        \n",
    "        curr=self.head\n",
    "        \n",
    "        if curr.next==None:\n",
    "            return self.delete_head()\n",
    "        \n",
    "        while curr.next.next!=None:\n",
    "            curr=curr.next\n",
    "        #Here curr will be second last item\n",
    "        curr.next=None\n",
    "        self.n-=1\n",
    "        \n",
    "    def remove(self,value):\n",
    "        if self.head==None:\n",
    "            return \"Empty Linked List\"\n",
    "        if self.head.value==value:\n",
    "            return self.delete_head()\n",
    "        curr=self.head\n",
    "        # traversing through all elements\n",
    "        while curr.next!=None:\n",
    "            if curr.next.value==value:\n",
    "                break\n",
    "            curr=curr.next\n",
    "        if curr.next==None:\n",
    "            return 'Item not found'\n",
    "        else:\n",
    "            curr.next=curr.next.next\n",
    "        \n",
    "    def search(self,item):\n",
    "        curr=self.head\n",
    "        pos=0\n",
    "        while curr!=None:\n",
    "            if curr.value==item:\n",
    "                return pos\n",
    "            curr=curr.next\n",
    "            pos+=1\n",
    "        return 'Not Found'\n",
    "    \n",
    "    def reverse(self):\n",
    "        prev_node=None\n",
    "        curr_node=self.head\n",
    "        while curr_node!=None:\n",
    "            next_node=curr_node.next\n",
    "            curr_node.next=prev_node\n",
    "            prev_node=curr_node\n",
    "            curr_node=next_node\n",
    "        self.head=prev_node\n",
    "    \n",
    "    def __getitem__(self,index):\n",
    "        curr=self.head\n",
    "        pos=0\n",
    "        while curr!=None:\n",
    "            if pos==index:\n",
    "                return curr.value\n",
    "            pos+=1\n",
    "            curr=curr.next\n",
    "            \n",
    "        return 'Index Error'\n",
    "        \n",
    "    def __str__(self):\n",
    "        curr=self.head\n",
    "        result=''\n",
    "        while curr!=None:\n",
    "            result+=str(curr.value)+'->'\n",
    "            curr=curr.next\n",
    "        return result[:-2]"
   ]
  },
  {
   "cell_type": "code",
   "execution_count": 33,
   "id": "9d4c027a",
   "metadata": {},
   "outputs": [],
   "source": [
    "L=LinkedList()"
   ]
  },
  {
   "cell_type": "code",
   "execution_count": 34,
   "id": "0b9eee5f",
   "metadata": {},
   "outputs": [],
   "source": [
    "L.insert_head(20)\n",
    "L.insert_head(21)\n",
    "L.insert_head(22)"
   ]
  },
  {
   "cell_type": "code",
   "execution_count": 35,
   "id": "bb07e3b6",
   "metadata": {},
   "outputs": [
    {
     "data": {
      "text/plain": [
       "3"
      ]
     },
     "execution_count": 35,
     "metadata": {},
     "output_type": "execute_result"
    }
   ],
   "source": [
    "len(L)"
   ]
  },
  {
   "cell_type": "code",
   "execution_count": 36,
   "id": "b200bb75",
   "metadata": {},
   "outputs": [
    {
     "name": "stdout",
     "output_type": "stream",
     "text": [
      "22->21->20\n"
     ]
    }
   ],
   "source": [
    "print(L)"
   ]
  },
  {
   "cell_type": "code",
   "execution_count": 37,
   "id": "e0494671",
   "metadata": {},
   "outputs": [
    {
     "name": "stdout",
     "output_type": "stream",
     "text": [
      "22->21->20->11\n"
     ]
    }
   ],
   "source": [
    "L.append(11)\n",
    "print(L)"
   ]
  },
  {
   "cell_type": "code",
   "execution_count": 38,
   "id": "3fb3b7d5",
   "metadata": {},
   "outputs": [],
   "source": [
    "L.insert_after(21,3)"
   ]
  },
  {
   "cell_type": "code",
   "execution_count": 39,
   "id": "6e0a94ed",
   "metadata": {},
   "outputs": [
    {
     "name": "stdout",
     "output_type": "stream",
     "text": [
      "22->21->3->20->11\n"
     ]
    }
   ],
   "source": [
    "print(L)"
   ]
  },
  {
   "cell_type": "code",
   "execution_count": 40,
   "id": "30496a8c",
   "metadata": {},
   "outputs": [
    {
     "name": "stdout",
     "output_type": "stream",
     "text": [
      "21->3->20->11\n"
     ]
    }
   ],
   "source": [
    "L.delete_head()\n",
    "print(L)"
   ]
  },
  {
   "cell_type": "code",
   "execution_count": 41,
   "id": "67d299c9",
   "metadata": {},
   "outputs": [
    {
     "data": {
      "text/plain": [
       "1"
      ]
     },
     "execution_count": 41,
     "metadata": {},
     "output_type": "execute_result"
    }
   ],
   "source": [
    "# L.clear()\n",
    "# print(L)\n",
    "L.search(3)"
   ]
  },
  {
   "cell_type": "code",
   "execution_count": 42,
   "id": "a5a1ae90",
   "metadata": {},
   "outputs": [
    {
     "name": "stdout",
     "output_type": "stream",
     "text": [
      "21->3->20\n"
     ]
    }
   ],
   "source": [
    "L.pop()\n",
    "print(L)"
   ]
  },
  {
   "cell_type": "code",
   "execution_count": 43,
   "id": "ff33974c",
   "metadata": {},
   "outputs": [
    {
     "name": "stdout",
     "output_type": "stream",
     "text": [
      "21->20\n"
     ]
    }
   ],
   "source": [
    "L.remove(3)\n",
    "print(L)"
   ]
  },
  {
   "cell_type": "code",
   "execution_count": 44,
   "id": "29d1674f",
   "metadata": {},
   "outputs": [
    {
     "data": {
      "text/plain": [
       "20"
      ]
     },
     "execution_count": 44,
     "metadata": {},
     "output_type": "execute_result"
    }
   ],
   "source": [
    "L[1]"
   ]
  },
  {
   "cell_type": "code",
   "execution_count": 49,
   "id": "7d7c736e",
   "metadata": {},
   "outputs": [
    {
     "name": "stdout",
     "output_type": "stream",
     "text": [
      "20->21\n"
     ]
    }
   ],
   "source": [
    "L.reverse()\n",
    "print(L)"
   ]
  },
  {
   "cell_type": "code",
   "execution_count": null,
   "id": "3f4c3f34",
   "metadata": {},
   "outputs": [],
   "source": []
  }
 ],
 "metadata": {
  "kernelspec": {
   "display_name": "Python 3 (ipykernel)",
   "language": "python",
   "name": "python3"
  },
  "language_info": {
   "codemirror_mode": {
    "name": "ipython",
    "version": 3
   },
   "file_extension": ".py",
   "mimetype": "text/x-python",
   "name": "python",
   "nbconvert_exporter": "python",
   "pygments_lexer": "ipython3",
   "version": "3.9.13"
  }
 },
 "nbformat": 4,
 "nbformat_minor": 5
}
