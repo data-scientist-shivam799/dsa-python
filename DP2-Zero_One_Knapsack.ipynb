{
 "cells": [
  {
   "cell_type": "markdown",
   "id": "4a0f570e",
   "metadata": {},
   "source": [
    "You are given weights and values of N items, put these items in a knapsack of capacity W to get the maximum total value in the knapsack. Note that we have only one quantity of each item.<br>\n",
    "In other words, given two integer arrays val[0..N-1] and wt[0..N-1] which represent values and weights associated with N items respectively. Also given an integer W which represents knapsack capacity, find out the maximum value subset of val[] such that sum of the weights of this subset is smaller than or equal to W. <br> \n",
    "You cannot break an item, either pick the complete item or dont pick it (0-1 property)."
   ]
  },
  {
   "cell_type": "markdown",
   "id": "83d633b8",
   "metadata": {},
   "source": [
    "### Recursive Aprroach -> Memoisation -> Top-down"
   ]
  },
  {
   "cell_type": "code",
   "execution_count": 31,
   "id": "6d448e94",
   "metadata": {},
   "outputs": [],
   "source": [
    "def knapsack(W,wt,val,N):\n",
    "    def solve(n,cap):\n",
    "        dp={}\n",
    "        if n==0 or cap==0:\n",
    "            return 0\n",
    "        elif (n,cap) in dp:\n",
    "            return dp[(n,cap)]\n",
    "        else:\n",
    "            cwt=wt[n-1]\n",
    "            cv=val[n-1]\n",
    "            if cwt<=cap:\n",
    "                c1=cv+solve(n-1,cap-cwt)\n",
    "                c2=0+solve(n-1,cap)\n",
    "                c = max(c1,c2)\n",
    "            else:\n",
    "                c = 0+solve(n-1,cap)\n",
    "            dp[(n,cap)]=c\n",
    "            return c\n",
    "    return solve(N,W)"
   ]
  },
  {
   "cell_type": "code",
   "execution_count": 32,
   "id": "f99b7026",
   "metadata": {},
   "outputs": [
    {
     "data": {
      "text/plain": [
       "3"
      ]
     },
     "execution_count": 32,
     "metadata": {},
     "output_type": "execute_result"
    }
   ],
   "source": [
    "N=3\n",
    "W=4\n",
    "values=[1,2,3]\n",
    "weight=[4,5,1]\n",
    "knapsack(W,weight,values,N)"
   ]
  },
  {
   "cell_type": "markdown",
   "id": "e1947cf5",
   "metadata": {},
   "source": [
    "### Iterative Approach -> Tabulation -> Bottom-Up"
   ]
  },
  {
   "cell_type": "code",
   "execution_count": 33,
   "id": "24dc7795",
   "metadata": {},
   "outputs": [],
   "source": [
    "def knapsack(W,wt,val,N):\n",
    "    dp=[[0]*(W+1) for _ in range(N)]\n",
    "    for i in range(N):\n",
    "        for j in range(W+1):\n",
    "            cap=j\n",
    "            cwt=wt[i]\n",
    "            cv=val[i]\n",
    "            if i==0:\n",
    "                if cwt<=cap:\n",
    "                    dp[i][j]=cv\n",
    "                else:\n",
    "                    dp[i][j]=0\n",
    "            else:\n",
    "                if cwt<=cap:\n",
    "                    c1=cv+dp[i-1][cap-cwt]\n",
    "                    c2=0+dp[i-1][cap]\n",
    "                    dp[i][j]=max(c1,c2)\n",
    "                else:\n",
    "                    dp[i][j]=dp[i-1][cap]\n",
    "    return dp[N-1][W]"
   ]
  },
  {
   "cell_type": "code",
   "execution_count": 34,
   "id": "2bdd879a",
   "metadata": {},
   "outputs": [
    {
     "data": {
      "text/plain": [
       "3"
      ]
     },
     "execution_count": 34,
     "metadata": {},
     "output_type": "execute_result"
    }
   ],
   "source": [
    "N=3\n",
    "W=4\n",
    "values=[1,2,3]\n",
    "weight=[4,5,1]\n",
    "knapsack(W,weight,values,N)"
   ]
  },
  {
   "cell_type": "code",
   "execution_count": null,
   "id": "0399ffba",
   "metadata": {},
   "outputs": [],
   "source": []
  },
  {
   "cell_type": "code",
   "execution_count": null,
   "id": "9ea32f79",
   "metadata": {},
   "outputs": [],
   "source": []
  },
  {
   "cell_type": "code",
   "execution_count": null,
   "id": "3dbe81e4",
   "metadata": {},
   "outputs": [],
   "source": []
  }
 ],
 "metadata": {
  "kernelspec": {
   "display_name": "Python 3 (ipykernel)",
   "language": "python",
   "name": "python3"
  },
  "language_info": {
   "codemirror_mode": {
    "name": "ipython",
    "version": 3
   },
   "file_extension": ".py",
   "mimetype": "text/x-python",
   "name": "python",
   "nbconvert_exporter": "python",
   "pygments_lexer": "ipython3",
   "version": "3.9.13"
  }
 },
 "nbformat": 4,
 "nbformat_minor": 5
}
