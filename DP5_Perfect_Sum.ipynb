{
 "cells": [
  {
   "cell_type": "markdown",
   "id": "ca0e8320",
   "metadata": {},
   "source": [
    "Given an array arr of non-negative integers and an integer sum, the task is to count all subsets of the given array with a sum equal to a given sum. "
   ]
  },
  {
   "cell_type": "markdown",
   "id": "62d802f3",
   "metadata": {},
   "source": [
    "### Recursive approach"
   ]
  },
  {
   "cell_type": "code",
   "execution_count": 24,
   "id": "a71959b9",
   "metadata": {},
   "outputs": [],
   "source": [
    "def perfectSum(arr,N,sum):\n",
    "    def solve(n,cap):\n",
    "        dp={}\n",
    "        mod=10**9+7\n",
    "        arr.sort(reverse=True)\n",
    "        if n==0:\n",
    "            if cap==0:\n",
    "                return 1\n",
    "            else:\n",
    "                return 0\n",
    "        elif (n,cap) in dp:\n",
    "            return dp[(n,cap)]\n",
    "        else:\n",
    "            item=arr[n-1]\n",
    "            if item<=cap:\n",
    "                c1=solve(n-1,cap-item)\n",
    "                c2=solve(n-1,cap)\n",
    "                c= (c1 + c2)%mod\n",
    "            else:\n",
    "                if cap==0:\n",
    "                    c=1\n",
    "                else:\n",
    "                    c=0\n",
    "            dp[(n,cap)]=c\n",
    "        return c\n",
    "    return solve(N,sum)"
   ]
  },
  {
   "cell_type": "code",
   "execution_count": 25,
   "id": "fb18a4fc",
   "metadata": {},
   "outputs": [
    {
     "data": {
      "text/plain": [
       "3"
      ]
     },
     "execution_count": 25,
     "metadata": {},
     "output_type": "execute_result"
    }
   ],
   "source": [
    "N=6\n",
    "arr=[2,3,5,6,8,10]\n",
    "sum=10\n",
    "perfectSum(arr,N,sum)"
   ]
  },
  {
   "cell_type": "markdown",
   "id": "ef7ac721",
   "metadata": {},
   "source": [
    "### Tabulation approach"
   ]
  },
  {
   "cell_type": "code",
   "execution_count": null,
   "id": "0a645418",
   "metadata": {},
   "outputs": [],
   "source": [
    "def perfectSum(arr,N,sum):\n",
    "    dp=[[0]*(sum+1) for _ in range(N)]\n",
    "    mod=10**9+7\n",
    "    for i in range(N):\n",
    "        for j in range(sum+1):\n",
    "            sm=j\n",
    "            if i==0:\n",
    "                if sm==0:\n",
    "                    if item==0:\n",
    "                        dp[i][j]=2\n",
    "                    else:\n",
    "                        dp[i][j]=1\n",
    "                else:\n",
    "                    if item==sm:\n",
    "                        dp[i][j]=1\n",
    "            else:\n",
    "                item=arr[i]\n",
    "                if item<=sm:\n",
    "                    dp[i][j]=(dp[i-1][sm-item]+dp[i-1][sm])%mod\n",
    "                else:\n",
    "                    dp[i][j]=dp[i-1][sm]\n",
    "    return dp[N-1][sum]"
   ]
  }
 ],
 "metadata": {
  "kernelspec": {
   "display_name": "Python 3 (ipykernel)",
   "language": "python",
   "name": "python3"
  },
  "language_info": {
   "codemirror_mode": {
    "name": "ipython",
    "version": 3
   },
   "file_extension": ".py",
   "mimetype": "text/x-python",
   "name": "python",
   "nbconvert_exporter": "python",
   "pygments_lexer": "ipython3",
   "version": "3.9.13"
  }
 },
 "nbformat": 4,
 "nbformat_minor": 5
}
