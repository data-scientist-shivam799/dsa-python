{
 "cells": [
  {
   "cell_type": "markdown",
   "id": "8b2b6f30",
   "metadata": {},
   "source": [
    "# Linear Search\n",
    "* Time complexity - O(N)\n",
    "* No sorting required"
   ]
  },
  {
   "cell_type": "code",
   "execution_count": 1,
   "id": "69cfe275",
   "metadata": {},
   "outputs": [],
   "source": [
    "def linear_search(arr,item):\n",
    "    for i in range(len(arr)):\n",
    "        if arr[i]==item:\n",
    "            return i\n",
    "    return -1"
   ]
  },
  {
   "cell_type": "code",
   "execution_count": 6,
   "id": "55e313d3",
   "metadata": {},
   "outputs": [
    {
     "data": {
      "text/plain": [
       "6"
      ]
     },
     "execution_count": 6,
     "metadata": {},
     "output_type": "execute_result"
    }
   ],
   "source": [
    "array=[1,5,6,8,2,9,3,7]\n",
    "item=3\n",
    "linear_search(array,item)"
   ]
  },
  {
   "cell_type": "markdown",
   "id": "0ff12523",
   "metadata": {},
   "source": [
    "# Binary search\n",
    "* Need sorted array\n",
    "* Time complexity - O(logN)"
   ]
  },
  {
   "cell_type": "code",
   "execution_count": 7,
   "id": "a26d6342",
   "metadata": {},
   "outputs": [],
   "source": [
    "def binary_search(arr,low,high,item):\n",
    "    if low<=high:\n",
    "        # search\n",
    "        mid=(low+high)//2\n",
    "        if arr[mid]==item:\n",
    "            return mid\n",
    "        elif arr[mid]>item:\n",
    "            return binary_search(arr,low,mid-1,item)\n",
    "        else:\n",
    "            return binary_search(arr,mid+1,high,item)\n",
    "    else:\n",
    "        return -1"
   ]
  },
  {
   "cell_type": "code",
   "execution_count": 11,
   "id": "bf72ae98",
   "metadata": {},
   "outputs": [
    {
     "data": {
      "text/plain": [
       "3"
      ]
     },
     "execution_count": 11,
     "metadata": {},
     "output_type": "execute_result"
    }
   ],
   "source": [
    "array=[14,25,33,47,52,64,71,85,91,100]\n",
    "binary_search(array,0,len(array)-1,47)"
   ]
  },
  {
   "cell_type": "code",
   "execution_count": null,
   "id": "13ac9466",
   "metadata": {},
   "outputs": [],
   "source": []
  }
 ],
 "metadata": {
  "kernelspec": {
   "display_name": "Python 3 (ipykernel)",
   "language": "python",
   "name": "python3"
  },
  "language_info": {
   "codemirror_mode": {
    "name": "ipython",
    "version": 3
   },
   "file_extension": ".py",
   "mimetype": "text/x-python",
   "name": "python",
   "nbconvert_exporter": "python",
   "pygments_lexer": "ipython3",
   "version": "3.9.13"
  }
 },
 "nbformat": 4,
 "nbformat_minor": 5
}
