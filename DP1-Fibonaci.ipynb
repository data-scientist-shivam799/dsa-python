{
 "cells": [
  {
   "cell_type": "markdown",
   "id": "fb241b8e",
   "metadata": {},
   "source": [
    "### Fibonaci without DP"
   ]
  },
  {
   "cell_type": "code",
   "execution_count": 11,
   "id": "154cfb14",
   "metadata": {},
   "outputs": [
    {
     "name": "stdout",
     "output_type": "stream",
     "text": [
      "9.583935737609863\n"
     ]
    }
   ],
   "source": [
    "import time as t\n",
    "def fib(n):\n",
    "    if n==0:\n",
    "        return 0\n",
    "    elif n==1:\n",
    "        return 1\n",
    "    else:\n",
    "        return fib(n-1)+fib(n-2)\n",
    "toc=t.time()\n",
    "a=fib(35)\n",
    "tic=t.time()\n",
    "print(tic-toc)"
   ]
  },
  {
   "cell_type": "markdown",
   "id": "d7b270fc",
   "metadata": {},
   "source": [
    "### Fibonaci with DP \n",
    "Top-down approach (Memoisation)"
   ]
  },
  {
   "cell_type": "code",
   "execution_count": 13,
   "id": "505849aa",
   "metadata": {},
   "outputs": [
    {
     "name": "stdout",
     "output_type": "stream",
     "text": [
      "0.0\n"
     ]
    }
   ],
   "source": [
    "import time as t\n",
    "\n",
    "def fib(n,dp):\n",
    "    if n==0:\n",
    "        return 0\n",
    "    elif n==1:\n",
    "        return 1\n",
    "    elif dp[n]!=None:\n",
    "        return dp[n]\n",
    "    else:\n",
    "        dp[n]=fib(n-1,dp)+fib(n-2,dp)\n",
    "        return dp[n]\n",
    "\n",
    "num=35\n",
    "dp=[None]*(num+1)\n",
    "toc=t.time()\n",
    "fib(num,dp)\n",
    "tic=t.time()\n",
    "print(tic-toc)"
   ]
  },
  {
   "cell_type": "markdown",
   "id": "2a50472f",
   "metadata": {},
   "source": [
    "### Fibonaci with DP\n",
    "Bottom up approach (Tabulation)"
   ]
  },
  {
   "cell_type": "code",
   "execution_count": 42,
   "id": "079db297",
   "metadata": {},
   "outputs": [
    {
     "name": "stdout",
     "output_type": "stream",
     "text": [
      "0.00586700439453125\n"
     ]
    }
   ],
   "source": [
    "import time as t\n",
    "toc=t.time()\n",
    "num=35\n",
    "dp=[None]*(num+1)\n",
    "dp[0]=0\n",
    "dp[1]=1\n",
    "for i in range(2,num+1):\n",
    "    dp[i]=dp[i-1]+dp[i-2]\n",
    "fib=dp[num]\n",
    "# print(fib)\n",
    "tic=t.time()\n",
    "print(tic-toc)"
   ]
  },
  {
   "cell_type": "code",
   "execution_count": 34,
   "id": "ec71e810",
   "metadata": {},
   "outputs": [
    {
     "data": {
      "text/plain": [
       "14"
      ]
     },
     "execution_count": 34,
     "metadata": {},
     "output_type": "execute_result"
    }
   ],
   "source": []
  },
  {
   "cell_type": "code",
   "execution_count": null,
   "id": "ecf35ca6",
   "metadata": {},
   "outputs": [],
   "source": []
  }
 ],
 "metadata": {
  "kernelspec": {
   "display_name": "Python 3 (ipykernel)",
   "language": "python",
   "name": "python3"
  },
  "language_info": {
   "codemirror_mode": {
    "name": "ipython",
    "version": 3
   },
   "file_extension": ".py",
   "mimetype": "text/x-python",
   "name": "python",
   "nbconvert_exporter": "python",
   "pygments_lexer": "ipython3",
   "version": "3.9.13"
  }
 },
 "nbformat": 4,
 "nbformat_minor": 5
}
