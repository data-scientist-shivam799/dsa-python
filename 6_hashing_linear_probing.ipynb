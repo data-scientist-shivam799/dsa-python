{
 "cells": [
  {
   "cell_type": "code",
   "execution_count": 38,
   "id": "1e410431",
   "metadata": {},
   "outputs": [],
   "source": [
    "class Dictionary:\n",
    "    def __init__(self,size):\n",
    "        self.size=size\n",
    "        self.slots=[None]*self.size\n",
    "        self.data=[None]*self.size\n",
    "        \n",
    "    def put(self,key,value):\n",
    "        hash_value=self.hash_function(key)\n",
    "        if self.slots[hash_value]==None:\n",
    "            self.slots[hash_value]=key\n",
    "            self.data[hash_value]=value\n",
    "        else:\n",
    "            if self.slots[hash_value]==key:\n",
    "                self.data[hash_value]=value\n",
    "            else:\n",
    "                new_hash_value=self.rehash(hash_value)\n",
    "                while self.slots[new_hash_value]!=None and self.slots[new_hash_value]!=key:\n",
    "                    new_hash_value=self.rehash(new_hash_value)\n",
    "                if self.slots[new_hash_value]==None:\n",
    "                    self.slots[new_hash_value]=key\n",
    "                    self.data[new_hash_value]=value\n",
    "                else:\n",
    "                    self.data[new_hash_value]=value\n",
    "    \n",
    "    def get(self,key):\n",
    "        start_position=self.hash_function(key)\n",
    "        current_position=start_position\n",
    "        while self.slots[current_position]!=None:\n",
    "            if self.slots[current_position]==key:\n",
    "                return self.data[current_position]\n",
    "            current_position=self.rehash(current_position)\n",
    "            if current_position==start_position:\n",
    "                return 'Not found'\n",
    "        return 'None wala Not found'\n",
    "                    \n",
    "    def __setitem__(self,key,value):\n",
    "        self.put(key,value)\n",
    "        \n",
    "    def rehash(self,old_hash):\n",
    "        return (old_hash+1)%self.size\n",
    "    \n",
    "    def hash_function(self,key):\n",
    "        return (abs(hash(key))%self.size)\n",
    "    \n",
    "    def __getitem__(self,key):\n",
    "        return self.get(key)\n",
    "    \n",
    "    def __str__(self):\n",
    "        for i in range(len(self.slots)):\n",
    "            if self.slots[i]!=None:\n",
    "                print(self.slots[i],\":\",self.data[i],end=\", \")\n",
    "        return \"\""
   ]
  },
  {
   "cell_type": "code",
   "execution_count": 39,
   "id": "2e0b51d6",
   "metadata": {},
   "outputs": [],
   "source": [
    "D1=Dictionary(3)"
   ]
  },
  {
   "cell_type": "code",
   "execution_count": 40,
   "id": "b9dce3d3",
   "metadata": {},
   "outputs": [
    {
     "name": "stdout",
     "output_type": "stream",
     "text": [
      "[None, None, None]\n",
      "[None, None, None]\n"
     ]
    }
   ],
   "source": [
    "print(D1.slots)\n",
    "print(D1.data)"
   ]
  },
  {
   "cell_type": "code",
   "execution_count": 41,
   "id": "f12a19b7",
   "metadata": {},
   "outputs": [],
   "source": [
    "D1.put('python',45)\n",
    "D1.put('java',45)\n",
    "D1.put('php',5)"
   ]
  },
  {
   "cell_type": "code",
   "execution_count": 42,
   "id": "250e4812",
   "metadata": {},
   "outputs": [
    {
     "name": "stdout",
     "output_type": "stream",
     "text": [
      "['php', 'python', 'java']\n",
      "[5, 45, 45]\n"
     ]
    }
   ],
   "source": [
    "print(D1.slots)\n",
    "print(D1.data)"
   ]
  },
  {
   "cell_type": "code",
   "execution_count": 43,
   "id": "8f1fd18f",
   "metadata": {},
   "outputs": [
    {
     "data": {
      "text/plain": [
       "5"
      ]
     },
     "execution_count": 43,
     "metadata": {},
     "output_type": "execute_result"
    }
   ],
   "source": [
    "D1.get('php')"
   ]
  },
  {
   "cell_type": "code",
   "execution_count": 44,
   "id": "9676f306",
   "metadata": {},
   "outputs": [
    {
     "data": {
      "text/plain": [
       "5"
      ]
     },
     "execution_count": 44,
     "metadata": {},
     "output_type": "execute_result"
    }
   ],
   "source": [
    "D1['php']"
   ]
  },
  {
   "cell_type": "code",
   "execution_count": 45,
   "id": "49cb0d72",
   "metadata": {},
   "outputs": [
    {
     "name": "stdout",
     "output_type": "stream",
     "text": [
      "php : 5, python : 45, java : 45, \n"
     ]
    }
   ],
   "source": [
    "print(D1)"
   ]
  },
  {
   "cell_type": "code",
   "execution_count": null,
   "id": "b492d9f6",
   "metadata": {},
   "outputs": [],
   "source": []
  }
 ],
 "metadata": {
  "kernelspec": {
   "display_name": "Python 3 (ipykernel)",
   "language": "python",
   "name": "python3"
  },
  "language_info": {
   "codemirror_mode": {
    "name": "ipython",
    "version": 3
   },
   "file_extension": ".py",
   "mimetype": "text/x-python",
   "name": "python",
   "nbconvert_exporter": "python",
   "pygments_lexer": "ipython3",
   "version": "3.9.13"
  }
 },
 "nbformat": 4,
 "nbformat_minor": 5
}
