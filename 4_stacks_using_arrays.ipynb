{
 "cells": [
  {
   "cell_type": "code",
   "execution_count": 36,
   "id": "83520ffc",
   "metadata": {},
   "outputs": [],
   "source": [
    "class Stack:\n",
    "    def __init__(self,size):\n",
    "        self.size=size\n",
    "        self.__stack=[None]*self.size\n",
    "        self.top=-1\n",
    "    def push(self,value):\n",
    "        if self.top==self.size-1:\n",
    "            return \"Overflow\"\n",
    "        else:\n",
    "            self.top+=1\n",
    "            self.__stack[self.top]=value\n",
    "    def pop(self):\n",
    "        if self.top==-1:\n",
    "            return \"Empty Stack\"\n",
    "        else:\n",
    "            data=self.__stack[self.top]\n",
    "            self.top-=1\n",
    "            print(data)\n",
    "    def traverse(self):\n",
    "        for i in range(self.top+1):\n",
    "            print(self.__stack[i],end=' ')"
   ]
  },
  {
   "cell_type": "code",
   "execution_count": 67,
   "id": "a920e0fe",
   "metadata": {},
   "outputs": [],
   "source": [
    "s=Stack(4)"
   ]
  },
  {
   "cell_type": "code",
   "execution_count": 68,
   "id": "eb854e26",
   "metadata": {},
   "outputs": [],
   "source": [
    "s.push(2)\n",
    "s.push(4)"
   ]
  },
  {
   "cell_type": "code",
   "execution_count": 69,
   "id": "0b36ffe9",
   "metadata": {},
   "outputs": [
    {
     "name": "stdout",
     "output_type": "stream",
     "text": [
      "4\n"
     ]
    }
   ],
   "source": [
    "s.pop()\n"
   ]
  },
  {
   "cell_type": "code",
   "execution_count": 70,
   "id": "d443f610",
   "metadata": {},
   "outputs": [
    {
     "name": "stdout",
     "output_type": "stream",
     "text": [
      "2 "
     ]
    }
   ],
   "source": [
    "s.traverse()"
   ]
  },
  {
   "cell_type": "code",
   "execution_count": null,
   "id": "da35f58f",
   "metadata": {},
   "outputs": [],
   "source": []
  }
 ],
 "metadata": {
  "kernelspec": {
   "display_name": "Python 3 (ipykernel)",
   "language": "python",
   "name": "python3"
  },
  "language_info": {
   "codemirror_mode": {
    "name": "ipython",
    "version": 3
   },
   "file_extension": ".py",
   "mimetype": "text/x-python",
   "name": "python",
   "nbconvert_exporter": "python",
   "pygments_lexer": "ipython3",
   "version": "3.9.13"
  }
 },
 "nbformat": 4,
 "nbformat_minor": 5
}
