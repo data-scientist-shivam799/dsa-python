{
 "cells": [
  {
   "cell_type": "markdown",
   "id": "db7dd0f3",
   "metadata": {},
   "source": [
    "Given an arrayof non-negative integers, and a value sum, determine if there is a subset of the given set with sum equal to given sum."
   ]
  },
  {
   "cell_type": "markdown",
   "id": "094ac73d",
   "metadata": {},
   "source": [
    "### Recursive Approach"
   ]
  },
  {
   "cell_type": "code",
   "execution_count": 5,
   "id": "48468f93",
   "metadata": {},
   "outputs": [],
   "source": [
    "def isSubsetSum(N,arr,sum):\n",
    "    def solve(n,cap):\n",
    "        dp={}\n",
    "        arr.sort(reverse=True)\n",
    "        if cap==0:\n",
    "            return 1\n",
    "        elif n==0:\n",
    "            return 0\n",
    "        elif (n,cap) in dp:\n",
    "            return dp[(n,cap)]\n",
    "        else:\n",
    "            item=arr[n-1]\n",
    "            if item<=cap:\n",
    "                c1=solve(n-1,cap-item)\n",
    "                c2=solve(n-1,cap)\n",
    "                c= c1 or c2\n",
    "            else:\n",
    "                c=0 # abhi tak koi result nhi mila toh aage bhi nhi milega, kyuki arr is sorted\n",
    "            dp[(n,cap)]=c\n",
    "            return c\n",
    "    \n",
    "    return solve(N,sum)"
   ]
  },
  {
   "cell_type": "code",
   "execution_count": 6,
   "id": "87cda35f",
   "metadata": {},
   "outputs": [
    {
     "data": {
      "text/plain": [
       "1"
      ]
     },
     "execution_count": 6,
     "metadata": {},
     "output_type": "execute_result"
    }
   ],
   "source": [
    "N=6\n",
    "arr=[3,34,4,12,5,2]\n",
    "sum=9\n",
    "#output = 1\n",
    "isSubsetSum(N,arr,sum)"
   ]
  },
  {
   "cell_type": "markdown",
   "id": "8d7c62b9",
   "metadata": {},
   "source": [
    "### Tabulation Approach"
   ]
  },
  {
   "cell_type": "code",
   "execution_count": 21,
   "id": "7978090a",
   "metadata": {},
   "outputs": [],
   "source": [
    "def isSubsetSum(N,arr,sum):\n",
    "    def solve(n,cap):\n",
    "        dp=[[0]*(sum+1) for _ in range(N)]\n",
    "        for i in range(N):\n",
    "            for j in range(sum+1):\n",
    "                item=arr[i]\n",
    "                cap=j\n",
    "                if i==0:\n",
    "                    if cap==0 or item==cap:\n",
    "                        dp[i][j]=1                                \n",
    "                else:\n",
    "                    if item<=cap:\n",
    "                        dp[i][j]=dp[i-1][cap-item] or dp[i-1][cap]\n",
    "                    else:\n",
    "                        dp[i][j]=dp[i-1][cap]\n",
    "        return dp[N-1][sum]\n",
    "    return solve(N,sum)"
   ]
  },
  {
   "cell_type": "code",
   "execution_count": 22,
   "id": "ed7fc3bc",
   "metadata": {},
   "outputs": [
    {
     "data": {
      "text/plain": [
       "1"
      ]
     },
     "execution_count": 22,
     "metadata": {},
     "output_type": "execute_result"
    }
   ],
   "source": [
    "N=6\n",
    "arr=[3,34,4,12,5,2]\n",
    "sum=9\n",
    "#output = 1\n",
    "isSubsetSum(N,arr,sum)"
   ]
  },
  {
   "cell_type": "code",
   "execution_count": null,
   "id": "d7df5b76",
   "metadata": {},
   "outputs": [],
   "source": []
  }
 ],
 "metadata": {
  "kernelspec": {
   "display_name": "Python 3 (ipykernel)",
   "language": "python",
   "name": "python3"
  },
  "language_info": {
   "codemirror_mode": {
    "name": "ipython",
    "version": 3
   },
   "file_extension": ".py",
   "mimetype": "text/x-python",
   "name": "python",
   "nbconvert_exporter": "python",
   "pygments_lexer": "ipython3",
   "version": "3.9.13"
  }
 },
 "nbformat": 4,
 "nbformat_minor": 5
}
