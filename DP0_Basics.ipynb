{
 "cells": [
  {
   "cell_type": "markdown",
   "id": "64f0e780",
   "metadata": {},
   "source": [
    "# Fibonacci "
   ]
  },
  {
   "cell_type": "markdown",
   "id": "ef673692",
   "metadata": {},
   "source": [
    "### Normal Recursion"
   ]
  },
  {
   "cell_type": "code",
   "execution_count": 1,
   "id": "50ceadf4",
   "metadata": {},
   "outputs": [
    {
     "name": "stdout",
     "output_type": "stream",
     "text": [
      "9227465\n",
      "6.16864538192749\n"
     ]
    }
   ],
   "source": [
    "import time as t\n",
    "def fib(num):\n",
    "    if num==0:\n",
    "        return 0\n",
    "    elif num==1:\n",
    "        return 1\n",
    "    else:\n",
    "        return fib(num-1)+fib(num-2)\n",
    "toc=t.time()\n",
    "print(fib(35))\n",
    "tic=t.time()\n",
    "print(tic-toc)"
   ]
  },
  {
   "cell_type": "markdown",
   "id": "0ad1b60a",
   "metadata": {},
   "source": [
    "### Top-down Approach (Memoisation)"
   ]
  },
  {
   "cell_type": "code",
   "execution_count": 2,
   "id": "c5bcc4d5",
   "metadata": {},
   "outputs": [
    {
     "name": "stdout",
     "output_type": "stream",
     "text": [
      "9227465\n",
      "0.0009946823120117188\n"
     ]
    }
   ],
   "source": [
    "import time as t\n",
    "def fibonacci(num):\n",
    "    dp=[None]*(num+1)\n",
    "    dp[0]=0\n",
    "    dp[1]=1\n",
    "    for i in range(2,num+1):\n",
    "        dp[i]=dp[i-1]+dp[i-2]\n",
    "    return dp[num]\n",
    "toc=t.time()\n",
    "print(fibonacci(35))\n",
    "tic=t.time()\n",
    "print(tic-toc)"
   ]
  },
  {
   "cell_type": "markdown",
   "id": "fce5eeeb",
   "metadata": {},
   "source": [
    "### Bottom Up Approach (Tabulation)"
   ]
  },
  {
   "cell_type": "code",
   "execution_count": 3,
   "id": "d6a97e33",
   "metadata": {},
   "outputs": [
    {
     "name": "stdout",
     "output_type": "stream",
     "text": [
      "9227465\n",
      "0.005006313323974609\n"
     ]
    }
   ],
   "source": [
    "import time as t\n",
    "\n",
    "def fib(num):\n",
    "    if num==0:\n",
    "        return 0\n",
    "    elif num==1:\n",
    "        return 1\n",
    "    elif dp[num] != None:\n",
    "        return dp[num]\n",
    "    else:\n",
    "        dp[num]=fib(num-1)+fib(num-2)\n",
    "        return dp[num]\n",
    "toc=t.time()\n",
    "num=35\n",
    "dp=[None]*(num+1)\n",
    "print(fib(num))\n",
    "tic=t.time()\n",
    "print(tic-toc)"
   ]
  },
  {
   "cell_type": "markdown",
   "id": "ef37fe54",
   "metadata": {},
   "source": [
    "# Knapsack Problem"
   ]
  },
  {
   "cell_type": "code",
   "execution_count": null,
   "id": "ebea3479",
   "metadata": {},
   "outputs": [],
   "source": []
  },
  {
   "cell_type": "code",
   "execution_count": null,
   "id": "e6350d3c",
   "metadata": {},
   "outputs": [],
   "source": []
  }
 ],
 "metadata": {
  "kernelspec": {
   "display_name": "Python 3 (ipykernel)",
   "language": "python",
   "name": "python3"
  },
  "language_info": {
   "codemirror_mode": {
    "name": "ipython",
    "version": 3
   },
   "file_extension": ".py",
   "mimetype": "text/x-python",
   "name": "python",
   "nbconvert_exporter": "python",
   "pygments_lexer": "ipython3",
   "version": "3.9.13"
  }
 },
 "nbformat": 4,
 "nbformat_minor": 5
}
