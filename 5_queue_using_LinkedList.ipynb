{
 "cells": [
  {
   "cell_type": "code",
   "execution_count": 2,
   "id": "b4dcfd63",
   "metadata": {},
   "outputs": [],
   "source": [
    "class Node:\n",
    "    def __init__(self,value):\n",
    "        self.data=value\n",
    "        self.next=None"
   ]
  },
  {
   "cell_type": "code",
   "execution_count": 43,
   "id": "b833af96",
   "metadata": {},
   "outputs": [],
   "source": [
    "class Queue:\n",
    "    def __init__(self):\n",
    "        self.front=None\n",
    "        self.rear=None\n",
    "    def enqueue(self,value):\n",
    "        new_node=Node(value)\n",
    "        # empty -> rear=front\n",
    "        if self.rear==None:\n",
    "            self.front=new_node\n",
    "            self.rear=self.front\n",
    "        # not empty\n",
    "        else:\n",
    "            self.rear.next=new_node\n",
    "            self.rear=new_node\n",
    "    def dequeue(self):\n",
    "        if self.front==None:\n",
    "            return 'Empty Queue'\n",
    "        else:\n",
    "            self.front=self.front.next\n",
    "    def traverse(self):\n",
    "        temp=self.front\n",
    "        while temp!=None:\n",
    "            print(temp.data, end=\" \")\n",
    "            temp=temp.next\n",
    "            \n",
    "    def is_empty(self):\n",
    "        return self.front==None\n",
    "    \n",
    "    def size(self):\n",
    "        temp=self.front\n",
    "        counter=0\n",
    "        while temp!=None:\n",
    "            counter+=1\n",
    "            temp=temp.next  \n",
    "        return counter\n",
    "    \n",
    "    def front_item(self):\n",
    "        if self.front==None:\n",
    "            return 'Empty Queue'\n",
    "        else:\n",
    "            return self.front.data\n",
    "        \n",
    "    def rear_item(self):\n",
    "        if self.front==None:\n",
    "            return 'Empty Queue'\n",
    "        else:\n",
    "            return self.rear.data"
   ]
  },
  {
   "cell_type": "code",
   "execution_count": 44,
   "id": "8695717d",
   "metadata": {},
   "outputs": [
    {
     "name": "stdout",
     "output_type": "stream",
     "text": [
      "1 2 3 4 "
     ]
    }
   ],
   "source": [
    "q=Queue()\n",
    "q.enqueue(1)\n",
    "q.enqueue(2)\n",
    "q.enqueue(3)\n",
    "q.enqueue(4)\n",
    "q.traverse()"
   ]
  },
  {
   "cell_type": "code",
   "execution_count": 45,
   "id": "17f0b177",
   "metadata": {},
   "outputs": [
    {
     "name": "stdout",
     "output_type": "stream",
     "text": [
      "2 3 4 "
     ]
    }
   ],
   "source": [
    "q.dequeue()\n",
    "q.traverse()"
   ]
  },
  {
   "cell_type": "code",
   "execution_count": 46,
   "id": "e12f1c06",
   "metadata": {},
   "outputs": [
    {
     "data": {
      "text/plain": [
       "False"
      ]
     },
     "execution_count": 46,
     "metadata": {},
     "output_type": "execute_result"
    }
   ],
   "source": [
    "q.is_empty()"
   ]
  },
  {
   "cell_type": "code",
   "execution_count": 47,
   "id": "6524e8a9",
   "metadata": {},
   "outputs": [
    {
     "data": {
      "text/plain": [
       "3"
      ]
     },
     "execution_count": 47,
     "metadata": {},
     "output_type": "execute_result"
    }
   ],
   "source": [
    "q.size()"
   ]
  },
  {
   "cell_type": "code",
   "execution_count": 48,
   "id": "d019ea54",
   "metadata": {},
   "outputs": [
    {
     "data": {
      "text/plain": [
       "2"
      ]
     },
     "execution_count": 48,
     "metadata": {},
     "output_type": "execute_result"
    }
   ],
   "source": [
    "q.front_item()"
   ]
  },
  {
   "cell_type": "code",
   "execution_count": 49,
   "id": "6fbdc37b",
   "metadata": {},
   "outputs": [
    {
     "data": {
      "text/plain": [
       "4"
      ]
     },
     "execution_count": 49,
     "metadata": {},
     "output_type": "execute_result"
    }
   ],
   "source": [
    "q.rear_item()"
   ]
  },
  {
   "cell_type": "code",
   "execution_count": null,
   "id": "842107dc",
   "metadata": {},
   "outputs": [],
   "source": []
  }
 ],
 "metadata": {
  "kernelspec": {
   "display_name": "Python 3 (ipykernel)",
   "language": "python",
   "name": "python3"
  },
  "language_info": {
   "codemirror_mode": {
    "name": "ipython",
    "version": 3
   },
   "file_extension": ".py",
   "mimetype": "text/x-python",
   "name": "python",
   "nbconvert_exporter": "python",
   "pygments_lexer": "ipython3",
   "version": "3.9.13"
  }
 },
 "nbformat": 4,
 "nbformat_minor": 5
}
