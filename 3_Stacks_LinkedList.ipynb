{
 "cells": [
  {
   "cell_type": "code",
   "execution_count": 1,
   "id": "fba5a3c6",
   "metadata": {},
   "outputs": [],
   "source": [
    "class Node:\n",
    "    def __init__(self,value):\n",
    "        self.data=value\n",
    "        self.next=None"
   ]
  },
  {
   "cell_type": "code",
   "execution_count": 23,
   "id": "15652650",
   "metadata": {},
   "outputs": [],
   "source": [
    "class Stack:\n",
    "    def __init__(self):\n",
    "        self.top=None\n",
    "        \n",
    "    def isEmpty(self):\n",
    "        return self.top==None\n",
    "    \n",
    "    def push(self,value):\n",
    "        new_node=Node(value)\n",
    "        new_node.next=self.top\n",
    "        self.top=new_node \n",
    "        \n",
    "    def peek(self):\n",
    "        if self.isEmpty():\n",
    "            return 'Stack Empty'\n",
    "        else:\n",
    "            return self.top.data\n",
    "        \n",
    "    def pop(self):\n",
    "        if self.isEmpty():\n",
    "            return 'Stack Empty'\n",
    "        else:\n",
    "            data=self.top.data\n",
    "            self.top=self.top.next\n",
    "            return data\n",
    "        \n",
    "    def traverse(self):\n",
    "        temp=self.top\n",
    "        while temp!=None:\n",
    "            print(temp.data)\n",
    "            temp=temp.next\n",
    "    def size(self):\n",
    "\n",
    "        temp = self.top\n",
    "        counter = 0\n",
    "\n",
    "        while temp is not None:\n",
    "            temp = temp.next\n",
    "            counter+=1\n",
    "\n",
    "        return counter     "
   ]
  },
  {
   "cell_type": "code",
   "execution_count": 24,
   "id": "5ad9f45e",
   "metadata": {},
   "outputs": [],
   "source": [
    "S=Stack()"
   ]
  },
  {
   "cell_type": "code",
   "execution_count": 25,
   "id": "ceace6e6",
   "metadata": {},
   "outputs": [
    {
     "name": "stdout",
     "output_type": "stream",
     "text": [
      "3\n",
      "7\n",
      "6\n",
      "2\n",
      "1\n"
     ]
    }
   ],
   "source": [
    "S.isEmpty()\n",
    "S.push(1)\n",
    "S.push(2)\n",
    "S.push(6)\n",
    "S.push(7)\n",
    "S.push(3)\n",
    "S.traverse()"
   ]
  },
  {
   "cell_type": "code",
   "execution_count": 26,
   "id": "846b6067",
   "metadata": {},
   "outputs": [
    {
     "data": {
      "text/plain": [
       "3"
      ]
     },
     "execution_count": 26,
     "metadata": {},
     "output_type": "execute_result"
    }
   ],
   "source": [
    "S.peek()"
   ]
  },
  {
   "cell_type": "code",
   "execution_count": 27,
   "id": "d8366eb7",
   "metadata": {},
   "outputs": [
    {
     "name": "stdout",
     "output_type": "stream",
     "text": [
      "7\n",
      "6\n",
      "2\n",
      "1\n"
     ]
    }
   ],
   "source": [
    "S.pop()\n",
    "S.traverse()"
   ]
  },
  {
   "cell_type": "markdown",
   "id": "7eeb15cf",
   "metadata": {},
   "source": [
    "### String reversal using stack"
   ]
  },
  {
   "cell_type": "code",
   "execution_count": 28,
   "id": "8095cfe4",
   "metadata": {},
   "outputs": [
    {
     "name": "stdout",
     "output_type": "stream",
     "text": [
      "olleH\n"
     ]
    }
   ],
   "source": [
    "def reverse_string(text):\n",
    "    s=Stack()\n",
    "    for i in text:\n",
    "        s.push(i)\n",
    "    res=\"\"\n",
    "    while (not s.isEmpty()):\n",
    "        res+=s.pop()\n",
    "    print(res)\n",
    "    \n",
    "reverse_string(\"Hello\")"
   ]
  },
  {
   "cell_type": "markdown",
   "id": "d16f7b27",
   "metadata": {},
   "source": [
    "### Text Editor"
   ]
  },
  {
   "cell_type": "code",
   "execution_count": 29,
   "id": "2625d290",
   "metadata": {},
   "outputs": [
    {
     "name": "stdout",
     "output_type": "stream",
     "text": [
      "Kolkata\n"
     ]
    }
   ],
   "source": [
    "def text_editor(text,pattern):\n",
    "    u=Stack()\n",
    "    r=Stack()\n",
    "    \n",
    "    for i in text:\n",
    "        u.push(i)\n",
    "        \n",
    "    for i in pattern:\n",
    "        if i=='u':\n",
    "            data=u.pop()\n",
    "            r.push(data)\n",
    "            \n",
    "        else:\n",
    "            data=r.pop()\n",
    "            u.push(data)\n",
    "    res=''\n",
    "    while (not u.isEmpty()):\n",
    "        res=u.pop()+res\n",
    "    print(res)\n",
    "    \n",
    "text_editor('Kolkata','uurrurur')"
   ]
  },
  {
   "cell_type": "markdown",
   "id": "b321e63b",
   "metadata": {},
   "source": [
    "### Celebrity Problem"
   ]
  },
  {
   "cell_type": "code",
   "execution_count": 30,
   "id": "97870290",
   "metadata": {},
   "outputs": [],
   "source": [
    "L=[\n",
    "    [0,0,1,1],\n",
    "    [0,0,1,0],\n",
    "    [0,0,0,0],\n",
    "    [0,0,1,0]\n",
    "]"
   ]
  },
  {
   "cell_type": "code",
   "execution_count": 33,
   "id": "5cc9cef8",
   "metadata": {},
   "outputs": [
    {
     "name": "stdout",
     "output_type": "stream",
     "text": [
      "The celebrity is 2\n"
     ]
    }
   ],
   "source": [
    "def find_the_celeb(L):\n",
    "    s=Stack()\n",
    "    for i in range(len(L)):\n",
    "        s.push(i)\n",
    "    while s.size()>=2:\n",
    "        i=s.pop()\n",
    "        j=s.pop()\n",
    "        if L[i][j]==0:\n",
    "            # j is not a celebrity\n",
    "            s.push(i)\n",
    "        else:\n",
    "            # i is not a celebrity\n",
    "            s.push(j)\n",
    "    celeb=s.pop()\n",
    "    \n",
    "    for i in range(len(L)):\n",
    "        if i!=celeb:\n",
    "            if L[i][celeb]==0 or L[celeb][i]==1:\n",
    "                print(\"No one is a celebrity\")\n",
    "                return\n",
    "    print(\"The celebrity is\",celeb)\n",
    "    \n",
    "    \n",
    "find_the_celeb(L)"
   ]
  },
  {
   "cell_type": "code",
   "execution_count": null,
   "id": "738dbb5b",
   "metadata": {},
   "outputs": [],
   "source": []
  }
 ],
 "metadata": {
  "kernelspec": {
   "display_name": "Python 3 (ipykernel)",
   "language": "python",
   "name": "python3"
  },
  "language_info": {
   "codemirror_mode": {
    "name": "ipython",
    "version": 3
   },
   "file_extension": ".py",
   "mimetype": "text/x-python",
   "name": "python",
   "nbconvert_exporter": "python",
   "pygments_lexer": "ipython3",
   "version": "3.9.13"
  }
 },
 "nbformat": 4,
 "nbformat_minor": 5
}
