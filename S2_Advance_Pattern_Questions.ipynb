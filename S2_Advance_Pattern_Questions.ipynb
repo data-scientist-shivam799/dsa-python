{
 "cells": [
  {
   "cell_type": "markdown",
   "id": "3c582ee7",
   "metadata": {},
   "source": [
    "### 1. Butterfly Pattern"
   ]
  },
  {
   "cell_type": "code",
   "execution_count": 8,
   "id": "07588409",
   "metadata": {},
   "outputs": [
    {
     "name": "stdout",
     "output_type": "stream",
     "text": [
      "*        *\n",
      "**      **\n",
      "***    ***\n",
      "****  ****\n",
      "**********\n",
      "**********\n",
      "****  ****\n",
      "***    ***\n",
      "**      **\n",
      "*        *\n"
     ]
    }
   ],
   "source": [
    "def butterfly(num):\n",
    "    # upper half\n",
    "    for i in range(1,num+1):\n",
    "        # 1st quarter\n",
    "        for j in range(1,i+1):\n",
    "            print('*',end='')\n",
    "        spaces=2*(num-i)\n",
    "        for j in range(1,spaces+1):\n",
    "            print(' ',end='')\n",
    "        # 2nd quarter\n",
    "        for j in range(1,i+1):\n",
    "            print('*',end='')\n",
    "        print()\n",
    "    # second half\n",
    "    for i in range(num,0,-1):\n",
    "        # 3rd quarter\n",
    "        for j in range(1,i+1):\n",
    "            print('*',end='')\n",
    "        spaces=2*(num-i)\n",
    "        for j in range(1,spaces+1):\n",
    "            print(' ',end='')\n",
    "        # 4th quarter\n",
    "        for j in range(1,i+1):\n",
    "            print('*',end='')\n",
    "        print()\n",
    "\n",
    "butterfly(5)"
   ]
  },
  {
   "cell_type": "markdown",
   "id": "189ce196",
   "metadata": {},
   "source": [
    "### 2. Solid Rhombus"
   ]
  },
  {
   "cell_type": "code",
   "execution_count": 9,
   "id": "ae4106b5",
   "metadata": {},
   "outputs": [
    {
     "name": "stdout",
     "output_type": "stream",
     "text": [
      "     *****\n",
      "    *****\n",
      "   *****\n",
      "  *****\n",
      " *****\n"
     ]
    }
   ],
   "source": [
    "def solid_rhombus(num):\n",
    "    for i in range(num):\n",
    "        for j in range(num-i):\n",
    "            print(' ',end='')\n",
    "        for k in range(num):\n",
    "            print('*',end='')\n",
    "        print()\n",
    "solid_rhombus(5)"
   ]
  },
  {
   "cell_type": "markdown",
   "id": "c4eb0a32",
   "metadata": {},
   "source": [
    "### 3. Number Pyramid"
   ]
  },
  {
   "cell_type": "code",
   "execution_count": 12,
   "id": "4a736096",
   "metadata": {},
   "outputs": [
    {
     "name": "stdout",
     "output_type": "stream",
     "text": [
      "    1 \n",
      "   2 2 \n",
      "  3 3 3 \n",
      " 4 4 4 4 \n",
      "5 5 5 5 5 \n"
     ]
    }
   ],
   "source": [
    "def num_pyramid(num):\n",
    "    for i in range(1,num+1):\n",
    "        for j in range(num-i):\n",
    "            print(' ',end='')\n",
    "        for j in range(1,i+1):\n",
    "            print(i,end=' ')\n",
    "        print()\n",
    "num_pyramid(5)"
   ]
  },
  {
   "cell_type": "markdown",
   "id": "8698e597",
   "metadata": {},
   "source": [
    "### 4. Palindromic Pattern"
   ]
  },
  {
   "cell_type": "code",
   "execution_count": 28,
   "id": "9d0262ad",
   "metadata": {},
   "outputs": [
    {
     "name": "stdout",
     "output_type": "stream",
     "text": [
      "        1 \n",
      "      2 1 2 \n",
      "    3 2 1 2 3 \n",
      "  4 3 2 1 2 3 4 \n",
      "5 4 3 2 1 2 3 4 5 \n"
     ]
    }
   ],
   "source": [
    "def palindromic_pattern(num):\n",
    "    for i in range(1,num+1):\n",
    "        for j in range(num-i):\n",
    "            print(' ',end=' ')\n",
    "        for k in range(i,0,-1):\n",
    "            print(k,end=' ')\n",
    "        for l in range(2,i+1):\n",
    "            print(l,end=' ')\n",
    "        print()\n",
    "palindromic_pattern(5)"
   ]
  },
  {
   "cell_type": "markdown",
   "id": "6073b77e",
   "metadata": {},
   "source": [
    "### 5. Diamond Pattern"
   ]
  },
  {
   "cell_type": "code",
   "execution_count": 66,
   "id": "3a9fc099",
   "metadata": {},
   "outputs": [
    {
     "name": "stdout",
     "output_type": "stream",
     "text": [
      "     *\n",
      "    ***\n",
      "   *****\n",
      "  *******\n",
      " *********\n",
      " *********\n",
      "  *******\n",
      "   *****\n",
      "    ***\n",
      "     *\n"
     ]
    }
   ],
   "source": [
    "def diamond_pattern(num):\n",
    "    for i in range(num):\n",
    "        for j in range(1,num-i+1):\n",
    "            print(' ',end='')\n",
    "        for k in range(2*i+1):\n",
    "            print('*',end='')\n",
    "        print()\n",
    "    for i in range(num-1,-1,-1):\n",
    "        for j in range(1,num-i+1):\n",
    "            print(' ',end='')\n",
    "        for k in range(2*i+1):\n",
    "            print('*',end='')\n",
    "        print()\n",
    "\n",
    "diamond_pattern(5)"
   ]
  },
  {
   "cell_type": "code",
   "execution_count": null,
   "id": "31f85008",
   "metadata": {},
   "outputs": [],
   "source": []
  },
  {
   "cell_type": "code",
   "execution_count": null,
   "id": "28559256",
   "metadata": {},
   "outputs": [],
   "source": []
  }
 ],
 "metadata": {
  "kernelspec": {
   "display_name": "Python 3 (ipykernel)",
   "language": "python",
   "name": "python3"
  },
  "language_info": {
   "codemirror_mode": {
    "name": "ipython",
    "version": 3
   },
   "file_extension": ".py",
   "mimetype": "text/x-python",
   "name": "python",
   "nbconvert_exporter": "python",
   "pygments_lexer": "ipython3",
   "version": "3.9.13"
  }
 },
 "nbformat": 4,
 "nbformat_minor": 5
}
