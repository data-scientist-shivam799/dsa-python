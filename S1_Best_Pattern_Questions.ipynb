{
 "cells": [
  {
   "cell_type": "markdown",
   "id": "53124bbd",
   "metadata": {},
   "source": [
    "### 1. Solid Rectangle"
   ]
  },
  {
   "cell_type": "code",
   "execution_count": 2,
   "id": "1c0bd743",
   "metadata": {},
   "outputs": [
    {
     "name": "stdout",
     "output_type": "stream",
     "text": [
      "*****\n",
      "*****\n",
      "*****\n",
      "*****\n"
     ]
    }
   ],
   "source": [
    "def solid_rect(row,col):\n",
    "    for i in range(row):\n",
    "        for j in range(col):\n",
    "            print('*',end='')\n",
    "        print(\"\")\n",
    "            \n",
    "solid_rect(4,5)"
   ]
  },
  {
   "cell_type": "markdown",
   "id": "03c4cd6c",
   "metadata": {},
   "source": [
    "### 2. Hollow Rectangle"
   ]
  },
  {
   "cell_type": "code",
   "execution_count": 29,
   "id": "6db3d303",
   "metadata": {},
   "outputs": [
    {
     "name": "stdout",
     "output_type": "stream",
     "text": [
      "*****\n",
      "*   *\n",
      "*   *\n",
      "*****\n"
     ]
    }
   ],
   "source": [
    "def hollow_rect(row,col):\n",
    "    for i in range(row):\n",
    "        for j in range(col):\n",
    "            if (i==0 or j==0 or i==row-1 or j==col-1):\n",
    "                print(\"*\",end='')\n",
    "            else:\n",
    "                print(' ',end='')\n",
    "        print()\n",
    "hollow_rect(4,5)"
   ]
  },
  {
   "cell_type": "markdown",
   "id": "7932f62d",
   "metadata": {},
   "source": [
    "### 3. Half Pyramid"
   ]
  },
  {
   "cell_type": "code",
   "execution_count": 33,
   "id": "5afae174",
   "metadata": {},
   "outputs": [
    {
     "name": "stdout",
     "output_type": "stream",
     "text": [
      "*\n",
      "**\n",
      "***\n",
      "****\n",
      "*****\n"
     ]
    }
   ],
   "source": [
    "def half_pyramid(row):\n",
    "    for i in range(1,row+1):\n",
    "        for j in range(i):\n",
    "            print(\"*\",end='')\n",
    "        print()\n",
    "half_pyramid(5)"
   ]
  },
  {
   "cell_type": "markdown",
   "id": "04546825",
   "metadata": {},
   "source": [
    "### 4. Inverted Half Pyramid"
   ]
  },
  {
   "cell_type": "code",
   "execution_count": 40,
   "id": "559a8e3e",
   "metadata": {},
   "outputs": [
    {
     "name": "stdout",
     "output_type": "stream",
     "text": [
      "*****\n",
      "****\n",
      "***\n",
      "**\n",
      "*\n"
     ]
    }
   ],
   "source": [
    "def inv_half_pyramid(num):\n",
    "    for i in range(num,0,-1):\n",
    "        for j in range(i):\n",
    "            print(\"*\",end='')\n",
    "        print()\n",
    "inv_half_pyramid(5)"
   ]
  },
  {
   "cell_type": "markdown",
   "id": "cba98538",
   "metadata": {},
   "source": [
    "### 5. Inverted Half Pyramid (Rotated by 180)"
   ]
  },
  {
   "cell_type": "code",
   "execution_count": 60,
   "id": "bbdf8ada",
   "metadata": {},
   "outputs": [
    {
     "name": "stdout",
     "output_type": "stream",
     "text": [
      "     *\n",
      "    **\n",
      "   ***\n",
      "  ****\n",
      " *****\n"
     ]
    }
   ],
   "source": [
    "def inv_half_rotated(num):\n",
    "    for i in range(num):\n",
    "        for k in range(num-i):\n",
    "            print(\" \",end='')\n",
    "        for j in range(i+1):\n",
    "            print('*',end='')\n",
    "        print()\n",
    "inv_half_rotated(5)"
   ]
  },
  {
   "cell_type": "markdown",
   "id": "41b13690",
   "metadata": {},
   "source": [
    "### 6. Number Pattern"
   ]
  },
  {
   "cell_type": "code",
   "execution_count": 67,
   "id": "6eb469d4",
   "metadata": {},
   "outputs": [
    {
     "name": "stdout",
     "output_type": "stream",
     "text": [
      "1 \n",
      "1 2 \n",
      "1 2 3 \n",
      "1 2 3 4 \n",
      "1 2 3 4 5 \n"
     ]
    }
   ],
   "source": [
    "def num_pattern(num):\n",
    "    for i in range(1,num+1):\n",
    "        for j in range(1,i+1):\n",
    "            print(j,end=' ')\n",
    "        print()\n",
    "num_pattern(5)"
   ]
  },
  {
   "cell_type": "markdown",
   "id": "c8845510",
   "metadata": {},
   "source": [
    "### 7. Inverted Number Pattern"
   ]
  },
  {
   "cell_type": "code",
   "execution_count": 82,
   "id": "acfabec5",
   "metadata": {},
   "outputs": [
    {
     "name": "stdout",
     "output_type": "stream",
     "text": [
      "1 2 3 4 5 \n",
      "1 2 3 4 \n",
      "1 2 3 \n",
      "1 2 \n",
      "1 \n"
     ]
    }
   ],
   "source": [
    "def inv_num_pattern(num):\n",
    "    for i in range(num+1,1,-1):\n",
    "        for j in range(1,i):\n",
    "            print(j,end=' ')\n",
    "        print()\n",
    "inv_num_pattern(5)"
   ]
  },
  {
   "cell_type": "code",
   "execution_count": 78,
   "id": "f8670985",
   "metadata": {},
   "outputs": [
    {
     "name": "stdout",
     "output_type": "stream",
     "text": [
      "1 2 3 4 5 \n",
      "1 2 3 4 \n",
      "1 2 3 \n",
      "1 2 \n",
      "1 \n"
     ]
    }
   ],
   "source": [
    "def inv_num_pattern2(num):\n",
    "    for i in range(1,num+1):\n",
    "        for j in range(1,num-i+2):\n",
    "            print(j,end=' ')\n",
    "        print()\n",
    "inv_num_pattern2(5)"
   ]
  },
  {
   "cell_type": "markdown",
   "id": "2500a074",
   "metadata": {},
   "source": [
    "### 8. Floyd's Triangle"
   ]
  },
  {
   "cell_type": "code",
   "execution_count": 88,
   "id": "7e9783a6",
   "metadata": {},
   "outputs": [
    {
     "name": "stdout",
     "output_type": "stream",
     "text": [
      "1 \n",
      "2 3 \n",
      "4 5 6 \n",
      "7 8 9 10 \n",
      "11 12 13 14 15 \n"
     ]
    }
   ],
   "source": [
    "def floyds_triangle(num):\n",
    "    count=1\n",
    "    for i in range(1,num+1):\n",
    "        for j in range(i):\n",
    "            print(count,end=' ')\n",
    "            count+=1\n",
    "        print()\n",
    "floyds_triangle(5)"
   ]
  },
  {
   "cell_type": "markdown",
   "id": "e55199f9",
   "metadata": {},
   "source": [
    "### 9. Zero-One Triangle"
   ]
  },
  {
   "cell_type": "code",
   "execution_count": 90,
   "id": "b6484122",
   "metadata": {},
   "outputs": [
    {
     "name": "stdout",
     "output_type": "stream",
     "text": [
      "1 \n",
      "0 1 \n",
      "1 0 1 \n",
      "0 1 0 1 \n",
      "1 0 1 0 1 \n"
     ]
    }
   ],
   "source": [
    "def zo_triangle(num):\n",
    "    for i in range(1,num+1):\n",
    "        for j in range(1,i+1):\n",
    "            if (i+j)%2==0:\n",
    "                print(1,end=' ')\n",
    "            else:\n",
    "                print(0,end=' ')\n",
    "        print()\n",
    "zo_triangle(5)"
   ]
  },
  {
   "cell_type": "code",
   "execution_count": null,
   "id": "a23afc0b",
   "metadata": {},
   "outputs": [],
   "source": []
  },
  {
   "cell_type": "code",
   "execution_count": null,
   "id": "fd24b060",
   "metadata": {},
   "outputs": [],
   "source": []
  }
 ],
 "metadata": {
  "kernelspec": {
   "display_name": "Python 3 (ipykernel)",
   "language": "python",
   "name": "python3"
  },
  "language_info": {
   "codemirror_mode": {
    "name": "ipython",
    "version": 3
   },
   "file_extension": ".py",
   "mimetype": "text/x-python",
   "name": "python",
   "nbconvert_exporter": "python",
   "pygments_lexer": "ipython3",
   "version": "3.9.13"
  }
 },
 "nbformat": 4,
 "nbformat_minor": 5
}
